{
 "cells": [
  {
   "cell_type": "markdown",
   "metadata": {},
   "source": [
    "# setup"
   ]
  },
  {
   "cell_type": "code",
   "execution_count": 1,
   "metadata": {
    "collapsed": false
   },
   "outputs": [],
   "source": [
    "%matplotlib inline\n",
    "from matplotlib import pyplot as plt\n",
    "import sys\n",
    "sys.path.append(\"/usr/local/Cellar/opencv3/3.2.0/lib/python3.5/site-packages/\") # mac opencv path\n",
    "import cv2\n",
    "import numpy as np\n",
    "from typing import Tuple, List, Text, Dict, Any, Iterator\n",
    "import time\n",
    "\n",
    "\n",
    "def mtx_plot(fnmtx, ratio):\n",
    "    h = len(fnmtx[0])\n",
    "    w = len(fnmtx)\n",
    "    k = 1\n",
    "    fig = plt.figure(figsize=(ratio[0]*h, ratio[1]*w))\n",
    "    for fnarr in fnmtx:\n",
    "        for fn in fnarr:\n",
    "            fig.add_subplot(w,h,k)\n",
    "            fn(k)\n",
    "            k += 1"
   ]
  },
  {
   "cell_type": "markdown",
   "metadata": {},
   "source": [
    "# prediction"
   ]
  },
  {
   "cell_type": "code",
   "execution_count": 4,
   "metadata": {
    "collapsed": false
   },
   "outputs": [],
   "source": [
    "import keras.backend as  K\n",
    "from keras.models import model_from_json\n",
    "import skimage.io as io\n",
    "from model_unet import create_unet\n",
    "\n",
    "with K.tf.device('/cpu:0'):\n",
    "        model = create_unet((256, 256, 3), 64, \"integrated\")\n",
    "        model.load_weights(\"./data/2017-05-16-10-03-10_float32_integrated_fil64_adam_lr0.0001_glorot_uniform_shape256x256_batch_size8_data_aug_weights.epoch0004-val_loss1908.34-val_acc0.10.hdf5\")\n"
   ]
  },
  {
   "cell_type": "code",
   "execution_count": null,
   "metadata": {
    "collapsed": false
   },
   "outputs": [],
   "source": [
    "'''\n",
    "COCO_val2014_000000000589\n",
    "COCO_val2014_000000000139\n",
    "COCO_val2014_000000000257\n",
    "COCO_val2014_000000000283\n",
    "COCO_val2014_000000000328\n",
    "COCO_val2014_000000000338\n",
    "COCO_val2014_000000000357\n",
    "'''\n",
    "\n",
    "img = io.imread(\"./data/val2014/COCO_val2014_000000000338.jpg\")\n",
    "img = cv2.resize(img, (256, 256))\n",
    "img = np.expand_dims(img, axis=0)\n",
    "\n",
    "\n",
    "with K.tf.device('/cpu:0'):\n",
    "        output = model.predict(img)\n",
    "        print(img.shape, output.shape, output.shape)\n",
    "\n",
    "\n",
    "\n",
    "mat1 = [\n",
    "    [\n",
    "        lambda x: plt.imshow(img[0]),\n",
    "        lambda x: plt.imshow(output[0]),\n",
    "    ]\n",
    "]\n",
    "\n",
    "mtx_plot(mat1, ratio=(4,4))"
   ]
  },
  {
   "cell_type": "code",
   "execution_count": null,
   "metadata": {
    "collapsed": true
   },
   "outputs": [],
   "source": []
  }
 ],
 "metadata": {
  "anaconda-cloud": {},
  "kernelspec": {
   "display_name": "Python [conda root]",
   "language": "python",
   "name": "conda-root-py"
  },
  "language_info": {
   "codemirror_mode": {
    "name": "ipython",
    "version": 3
   },
   "file_extension": ".py",
   "mimetype": "text/x-python",
   "name": "python",
   "nbconvert_exporter": "python",
   "pygments_lexer": "ipython3",
   "version": "3.5.2"
  }
 },
 "nbformat": 4,
 "nbformat_minor": 1
}
